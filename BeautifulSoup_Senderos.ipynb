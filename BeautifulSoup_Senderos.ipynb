{
 "cells": [
  {
   "cell_type": "markdown",
   "metadata": {},
   "source": [
    "Parte 1: Web Scraping con BeautifulSoup\n",
    "Utilizando la biblioteca BeautifulSoup en Python, extrae información de la siguiente web. Debes\n",
    "extraer la tabla de senderos de España con la siguiente información:\n",
    "https://es.wikipedia.org/wiki/Sendero_de_Gran_Recorrido\n",
    "1. Identificador.\n",
    "2. Denominación.\n",
    "3. Itinerario."
   ]
  },
  {
   "cell_type": "code",
   "execution_count": null,
   "metadata": {},
   "outputs": [],
   "source": [
    "# !pip install beautifulsoup4"
   ]
  },
  {
   "cell_type": "code",
   "execution_count": null,
   "metadata": {},
   "outputs": [],
   "source": [
    "from bs4 import BeautifulSoup\n",
    "import pandas as pd"
   ]
  },
  {
   "cell_type": "code",
   "execution_count": null,
   "metadata": {},
   "outputs": [],
   "source": [
    "# Configura pandas para que muestre todas las columnas\n",
    "pd.set_option('display.max_columns', None)"
   ]
  },
  {
   "cell_type": "code",
   "execution_count": null,
   "metadata": {},
   "outputs": [],
   "source": [
    "# Aquí usamos la función para sacar los datos de una página específica y guardarlos en una variable.\n",
    "url_senderos = \"https://es.wikipedia.org/wiki/Sendero_de_Gran_Recorrido#V%C3%A9ase_tambi%C3%A9n\"\n",
    "clase_tabla = \"wikitable\""
   ]
  },
  {
   "cell_type": "code",
   "execution_count": null,
   "metadata": {},
   "outputs": [],
   "source": [
    "def extraer_datos_tabla(url, clase_tabla):\n",
    "    respuesta = requests.get(url)\n",
    "    if respuesta.status_code != 200:\n",
    "        print(\"Error al realizar la petición\")\n",
    "        return None\n",
    "    \n",
    "    sopa_senderos = BeautifulSoup(respuesta.content, 'html.parser')\n",
    "    tabla = sopa_senderos.find('table', {'class': clase_tabla})\n",
    "    if not tabla:\n",
    "        print(\"No se encontró la tabla.\")\n",
    "        return None\n",
    "\n",
    "    filas_tabla = []\n",
    "    \n",
    "    for fila in tabla.find_all('tr'):\n",
    "        celdas = fila.find_all('td')\n",
    "        if celdas and len(celdas) > 1:  # Asegura que haya datos en la fila y que tenga más de una celda\n",
    "            filas_tabla.append([celda.text.strip() for celda in celdas[:-1]])  # Excluir la última celda\n",
    "\n",
    "    if not filas_tabla:\n",
    "        print(\"No se extrajeron datos de la tabla.\")\n",
    "        return None\n",
    "\n",
    "    # Crear el DataFrame con los nombres de columnas específicos\n",
    "    df = pd.DataFrame(filas_tabla, columns=['ID', 'Denominación', 'Itinerario'])\n",
    "    return df"
   ]
  },
  {
   "cell_type": "code",
   "execution_count": null,
   "metadata": {},
   "outputs": [],
   "source": [
    "df_senderos = extraer_datos_tabla(url_senderos, clase_tabla)\n",
    "if df_senderos is not None:\n",
    "    print(df_senderos)\n",
    "else:\n",
    "    print(\"No ha podido crear el DataFrame.\")"
   ]
  },
  {
   "cell_type": "code",
   "execution_count": null,
   "metadata": {},
   "outputs": [],
   "source": [
    "# Guardamos la tabla en un archivo CSV \n",
    "df_senderos.to_csv(\"Senderos España 3.0\", index=False)"
   ]
  }
 ],
 "metadata": {
  "kernelspec": {
   "display_name": "base",
   "language": "python",
   "name": "python3"
  },
  "language_info": {
   "codemirror_mode": {
    "name": "ipython",
    "version": 3
   },
   "file_extension": ".py",
   "mimetype": "text/x-python",
   "name": "python",
   "nbconvert_exporter": "python",
   "pygments_lexer": "ipython3",
   "version": "3.9.7"
  }
 },
 "nbformat": 4,
 "nbformat_minor": 2
}
